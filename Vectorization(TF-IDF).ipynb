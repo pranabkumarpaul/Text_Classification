{
 "cells": [
  {
   "cell_type": "markdown",
   "metadata": {},
   "source": [
    "# TF-IDF Vectorization.\n",
    "## &emsp; Converting Unstructured Text Data into Structured Data."
   ]
  },
  {
   "cell_type": "markdown",
   "metadata": {},
   "source": [
    " "
   ]
  },
  {
   "cell_type": "markdown",
   "metadata": {},
   "source": [
    "### When there is a system issue we generally raise a ticked and put our comment about the issue. \n",
    "### Then tickets are prioritized on the basis of comment or issue description and as per priority tickets are resolved.\n",
    "\n",
    "### For this, I can build an algorithm on the basis of historical data. \n",
    "### So, when a new ticket will come, based on the comment or issue description algorithm can predict the Ticket Priority.\n"
   ]
  },
  {
   "cell_type": "markdown",
   "metadata": {},
   "source": [
    "**************************\n",
    "**************************"
   ]
  },
  {
   "cell_type": "markdown",
   "metadata": {},
   "source": [
    "## Creating Data."
   ]
  },
  {
   "cell_type": "code",
   "execution_count": 1,
   "metadata": {},
   "outputs": [
    {
     "data": {
      "text/html": [
       "<div>\n",
       "<style scoped>\n",
       "    .dataframe tbody tr th:only-of-type {\n",
       "        vertical-align: middle;\n",
       "    }\n",
       "\n",
       "    .dataframe tbody tr th {\n",
       "        vertical-align: top;\n",
       "    }\n",
       "\n",
       "    .dataframe thead th {\n",
       "        text-align: right;\n",
       "    }\n",
       "</style>\n",
       "<table border=\"1\" class=\"dataframe\">\n",
       "  <thead>\n",
       "    <tr style=\"text-align: right;\">\n",
       "      <th></th>\n",
       "      <th>Issue_Description</th>\n",
       "      <th>Priority</th>\n",
       "    </tr>\n",
       "  </thead>\n",
       "  <tbody>\n",
       "    <tr>\n",
       "      <th>0</th>\n",
       "      <td>Hi Please reset my password, i am not able to ...</td>\n",
       "      <td>P3</td>\n",
       "    </tr>\n",
       "    <tr>\n",
       "      <th>1</th>\n",
       "      <td>Hi Please reset my password</td>\n",
       "      <td>P3</td>\n",
       "    </tr>\n",
       "    <tr>\n",
       "      <th>2</th>\n",
       "      <td>Hi The system is down please restart it</td>\n",
       "      <td>P1</td>\n",
       "    </tr>\n",
       "    <tr>\n",
       "      <th>3</th>\n",
       "      <td>Not able to login can you check?</td>\n",
       "      <td>P3</td>\n",
       "    </tr>\n",
       "    <tr>\n",
       "      <th>4</th>\n",
       "      <td>The data is not getting exported</td>\n",
       "      <td>P2</td>\n",
       "    </tr>\n",
       "  </tbody>\n",
       "</table>\n",
       "</div>"
      ],
      "text/plain": [
       "                                   Issue_Description Priority\n",
       "0  Hi Please reset my password, i am not able to ...       P3\n",
       "1                        Hi Please reset my password       P3\n",
       "2            Hi The system is down please restart it       P1\n",
       "3                   Not able to login can you check?       P3\n",
       "4                   The data is not getting exported       P2"
      ]
     },
     "execution_count": 1,
     "metadata": {},
     "output_type": "execute_result"
    }
   ],
   "source": [
    "# Creating a sample System Issue Ticket Data.\n",
    "import pandas as pd\n",
    "\n",
    "TicketData= pd.DataFrame(data=[['Hi Please reset my password, i am not able to reset it','P3'],\n",
    "                               ['Hi Please reset my password','P3'],\n",
    "                               ['Hi The system is down please restart it', 'P1'],\n",
    "                               ['Not able to login can you check?', 'P3'],\n",
    "                               ['The data is not getting exported', 'P2'] ],\n",
    "                                    columns= ['Issue_Description','Priority'])\n",
    "# Printing the data\n",
    "TicketData"
   ]
  },
  {
   "cell_type": "markdown",
   "metadata": {},
   "source": [
    "## Converting Unstructured Text Data into Structured Data."
   ]
  },
  {
   "cell_type": "code",
   "execution_count": 2,
   "metadata": {},
   "outputs": [
    {
     "name": "stdout",
     "output_type": "stream",
     "text": [
      "['able', 'check', 'data', 'exported', 'getting', 'hi', 'login', 'password', 'reset', 'restart']\n",
      "(5, 10)\n"
     ]
    }
   ],
   "source": [
    "# TF-IDF vectorization of Text Data.\n",
    "from sklearn.feature_extraction.text import TfidfVectorizer\n",
    "from sklearn.feature_extraction._stop_words import ENGLISH_STOP_WORDS\n",
    "\n",
    "Comment = TicketData['Issue_Description'].values\n",
    "\n",
    "vectorizer = TfidfVectorizer(stop_words=ENGLISH_STOP_WORDS)\n",
    "\n",
    "X = vectorizer.fit_transform(Comment)\n",
    "\n",
    "# New column names\n",
    "print(vectorizer.get_feature_names())\n",
    "\n",
    "print(X.shape)"
   ]
  },
  {
   "cell_type": "code",
   "execution_count": 3,
   "metadata": {},
   "outputs": [
    {
     "data": {
      "text/html": [
       "<div>\n",
       "<style scoped>\n",
       "    .dataframe tbody tr th:only-of-type {\n",
       "        vertical-align: middle;\n",
       "    }\n",
       "\n",
       "    .dataframe tbody tr th {\n",
       "        vertical-align: top;\n",
       "    }\n",
       "\n",
       "    .dataframe thead th {\n",
       "        text-align: right;\n",
       "    }\n",
       "</style>\n",
       "<table border=\"1\" class=\"dataframe\">\n",
       "  <thead>\n",
       "    <tr style=\"text-align: right;\">\n",
       "      <th></th>\n",
       "      <th>able</th>\n",
       "      <th>check</th>\n",
       "      <th>data</th>\n",
       "      <th>exported</th>\n",
       "      <th>getting</th>\n",
       "      <th>hi</th>\n",
       "      <th>login</th>\n",
       "      <th>password</th>\n",
       "      <th>reset</th>\n",
       "      <th>restart</th>\n",
       "      <th>Issue_Description</th>\n",
       "    </tr>\n",
       "  </thead>\n",
       "  <tbody>\n",
       "    <tr>\n",
       "      <th>0</th>\n",
       "      <td>0.386650</td>\n",
       "      <td>0.000000</td>\n",
       "      <td>0.00000</td>\n",
       "      <td>0.00000</td>\n",
       "      <td>0.00000</td>\n",
       "      <td>0.320954</td>\n",
       "      <td>0.000000</td>\n",
       "      <td>0.386650</td>\n",
       "      <td>0.773300</td>\n",
       "      <td>0.000000</td>\n",
       "      <td>Hi Please reset my password, i am not able to ...</td>\n",
       "    </tr>\n",
       "    <tr>\n",
       "      <th>1</th>\n",
       "      <td>0.000000</td>\n",
       "      <td>0.000000</td>\n",
       "      <td>0.00000</td>\n",
       "      <td>0.00000</td>\n",
       "      <td>0.00000</td>\n",
       "      <td>0.506204</td>\n",
       "      <td>0.000000</td>\n",
       "      <td>0.609818</td>\n",
       "      <td>0.609818</td>\n",
       "      <td>0.000000</td>\n",
       "      <td>Hi Please reset my password</td>\n",
       "    </tr>\n",
       "    <tr>\n",
       "      <th>2</th>\n",
       "      <td>0.000000</td>\n",
       "      <td>0.000000</td>\n",
       "      <td>0.00000</td>\n",
       "      <td>0.00000</td>\n",
       "      <td>0.00000</td>\n",
       "      <td>0.556451</td>\n",
       "      <td>0.000000</td>\n",
       "      <td>0.000000</td>\n",
       "      <td>0.000000</td>\n",
       "      <td>0.830881</td>\n",
       "      <td>Hi The system is down please restart it</td>\n",
       "    </tr>\n",
       "    <tr>\n",
       "      <th>3</th>\n",
       "      <td>0.495524</td>\n",
       "      <td>0.614189</td>\n",
       "      <td>0.00000</td>\n",
       "      <td>0.00000</td>\n",
       "      <td>0.00000</td>\n",
       "      <td>0.000000</td>\n",
       "      <td>0.614189</td>\n",
       "      <td>0.000000</td>\n",
       "      <td>0.000000</td>\n",
       "      <td>0.000000</td>\n",
       "      <td>Not able to login can you check?</td>\n",
       "    </tr>\n",
       "    <tr>\n",
       "      <th>4</th>\n",
       "      <td>0.000000</td>\n",
       "      <td>0.000000</td>\n",
       "      <td>0.57735</td>\n",
       "      <td>0.57735</td>\n",
       "      <td>0.57735</td>\n",
       "      <td>0.000000</td>\n",
       "      <td>0.000000</td>\n",
       "      <td>0.000000</td>\n",
       "      <td>0.000000</td>\n",
       "      <td>0.000000</td>\n",
       "      <td>The data is not getting exported</td>\n",
       "    </tr>\n",
       "  </tbody>\n",
       "</table>\n",
       "</div>"
      ],
      "text/plain": [
       "       able     check     data  exported  getting        hi     login  \\\n",
       "0  0.386650  0.000000  0.00000   0.00000  0.00000  0.320954  0.000000   \n",
       "1  0.000000  0.000000  0.00000   0.00000  0.00000  0.506204  0.000000   \n",
       "2  0.000000  0.000000  0.00000   0.00000  0.00000  0.556451  0.000000   \n",
       "3  0.495524  0.614189  0.00000   0.00000  0.00000  0.000000  0.614189   \n",
       "4  0.000000  0.000000  0.57735   0.57735  0.57735  0.000000  0.000000   \n",
       "\n",
       "   password     reset   restart  \\\n",
       "0  0.386650  0.773300  0.000000   \n",
       "1  0.609818  0.609818  0.000000   \n",
       "2  0.000000  0.000000  0.830881   \n",
       "3  0.000000  0.000000  0.000000   \n",
       "4  0.000000  0.000000  0.000000   \n",
       "\n",
       "                                   Issue_Description  \n",
       "0  Hi Please reset my password, i am not able to ...  \n",
       "1                        Hi Please reset my password  \n",
       "2            Hi The system is down please restart it  \n",
       "3                   Not able to login can you check?  \n",
       "4                   The data is not getting exported  "
      ]
     },
     "execution_count": 3,
     "metadata": {},
     "output_type": "execute_result"
    }
   ],
   "source": [
    "# Visualizing the Document Term Matrix using TF-IDF.\n",
    "VectorizedText= pd.DataFrame(X.toarray(), columns=vectorizer.get_feature_names())\n",
    "VectorizedText['Issue_Description']= pd.Series(Comment)\n",
    "VectorizedText"
   ]
  },
  {
   "cell_type": "code",
   "execution_count": 4,
   "metadata": {},
   "outputs": [
    {
     "data": {
      "text/html": [
       "<div>\n",
       "<style scoped>\n",
       "    .dataframe tbody tr th:only-of-type {\n",
       "        vertical-align: middle;\n",
       "    }\n",
       "\n",
       "    .dataframe tbody tr th {\n",
       "        vertical-align: top;\n",
       "    }\n",
       "\n",
       "    .dataframe thead th {\n",
       "        text-align: right;\n",
       "    }\n",
       "</style>\n",
       "<table border=\"1\" class=\"dataframe\">\n",
       "  <thead>\n",
       "    <tr style=\"text-align: right;\">\n",
       "      <th></th>\n",
       "      <th>able</th>\n",
       "      <th>check</th>\n",
       "      <th>data</th>\n",
       "      <th>exported</th>\n",
       "      <th>getting</th>\n",
       "      <th>hi</th>\n",
       "      <th>login</th>\n",
       "      <th>password</th>\n",
       "      <th>reset</th>\n",
       "      <th>restart</th>\n",
       "      <th>Priority</th>\n",
       "    </tr>\n",
       "  </thead>\n",
       "  <tbody>\n",
       "    <tr>\n",
       "      <th>0</th>\n",
       "      <td>0.386650</td>\n",
       "      <td>0.000000</td>\n",
       "      <td>0.00000</td>\n",
       "      <td>0.00000</td>\n",
       "      <td>0.00000</td>\n",
       "      <td>0.320954</td>\n",
       "      <td>0.000000</td>\n",
       "      <td>0.386650</td>\n",
       "      <td>0.773300</td>\n",
       "      <td>0.000000</td>\n",
       "      <td>P3</td>\n",
       "    </tr>\n",
       "    <tr>\n",
       "      <th>1</th>\n",
       "      <td>0.000000</td>\n",
       "      <td>0.000000</td>\n",
       "      <td>0.00000</td>\n",
       "      <td>0.00000</td>\n",
       "      <td>0.00000</td>\n",
       "      <td>0.506204</td>\n",
       "      <td>0.000000</td>\n",
       "      <td>0.609818</td>\n",
       "      <td>0.609818</td>\n",
       "      <td>0.000000</td>\n",
       "      <td>P3</td>\n",
       "    </tr>\n",
       "    <tr>\n",
       "      <th>2</th>\n",
       "      <td>0.000000</td>\n",
       "      <td>0.000000</td>\n",
       "      <td>0.00000</td>\n",
       "      <td>0.00000</td>\n",
       "      <td>0.00000</td>\n",
       "      <td>0.556451</td>\n",
       "      <td>0.000000</td>\n",
       "      <td>0.000000</td>\n",
       "      <td>0.000000</td>\n",
       "      <td>0.830881</td>\n",
       "      <td>P1</td>\n",
       "    </tr>\n",
       "    <tr>\n",
       "      <th>3</th>\n",
       "      <td>0.495524</td>\n",
       "      <td>0.614189</td>\n",
       "      <td>0.00000</td>\n",
       "      <td>0.00000</td>\n",
       "      <td>0.00000</td>\n",
       "      <td>0.000000</td>\n",
       "      <td>0.614189</td>\n",
       "      <td>0.000000</td>\n",
       "      <td>0.000000</td>\n",
       "      <td>0.000000</td>\n",
       "      <td>P3</td>\n",
       "    </tr>\n",
       "    <tr>\n",
       "      <th>4</th>\n",
       "      <td>0.000000</td>\n",
       "      <td>0.000000</td>\n",
       "      <td>0.57735</td>\n",
       "      <td>0.57735</td>\n",
       "      <td>0.57735</td>\n",
       "      <td>0.000000</td>\n",
       "      <td>0.000000</td>\n",
       "      <td>0.000000</td>\n",
       "      <td>0.000000</td>\n",
       "      <td>0.000000</td>\n",
       "      <td>P2</td>\n",
       "    </tr>\n",
       "  </tbody>\n",
       "</table>\n",
       "</div>"
      ],
      "text/plain": [
       "       able     check     data  exported  getting        hi     login  \\\n",
       "0  0.386650  0.000000  0.00000   0.00000  0.00000  0.320954  0.000000   \n",
       "1  0.000000  0.000000  0.00000   0.00000  0.00000  0.506204  0.000000   \n",
       "2  0.000000  0.000000  0.00000   0.00000  0.00000  0.556451  0.000000   \n",
       "3  0.495524  0.614189  0.00000   0.00000  0.00000  0.000000  0.614189   \n",
       "4  0.000000  0.000000  0.57735   0.57735  0.57735  0.000000  0.000000   \n",
       "\n",
       "   password     reset   restart Priority  \n",
       "0  0.386650  0.773300  0.000000       P3  \n",
       "1  0.609818  0.609818  0.000000       P3  \n",
       "2  0.000000  0.000000  0.830881       P1  \n",
       "3  0.000000  0.000000  0.000000       P3  \n",
       "4  0.000000  0.000000  0.000000       P2  "
      ]
     },
     "execution_count": 4,
     "metadata": {},
     "output_type": "execute_result"
    }
   ],
   "source": [
    "# Example Data frame For machine learning.\n",
    "# Priority column acts as a target variable and other columns as predictors.\n",
    "DataForML=pd.DataFrame(X.toarray(), columns=vectorizer.get_feature_names())\n",
    "DataForML['Priority']=TicketData['Priority']\n",
    "DataForML.head()"
   ]
  },
  {
   "cell_type": "markdown",
   "metadata": {},
   "source": [
    "## Now with this data I can build an Classification algorithm to predict the Ticket Priority."
   ]
  },
  {
   "cell_type": "markdown",
   "metadata": {},
   "source": [
    " "
   ]
  },
  {
   "cell_type": "markdown",
   "metadata": {},
   "source": [
    " "
   ]
  },
  {
   "cell_type": "markdown",
   "metadata": {},
   "source": [
    " "
   ]
  },
  {
   "cell_type": "markdown",
   "metadata": {},
   "source": [
    "&emsp;&emsp;&emsp; &emsp;&emsp;&emsp;&emsp;&emsp;&emsp;&emsp;&emsp;&emsp;&emsp;&emsp;&emsp;&emsp;&emsp;&emsp; &emsp;&emsp; &emsp;&emsp;&emsp;&emsp;&emsp;&emsp;&emsp;&emsp;&emsp;&emsp;&emsp; &emsp;&emsp;&emsp;&emsp;&emsp;&emsp;&emsp; &emsp;&emsp; &emsp;&emsp;&emsp;&emsp;&emsp; &emsp;&emsp;&emsp;&emsp;&emsp;&emsp;&emsp;&emsp;&emsp;&emsp;&emsp;&emsp;&emsp;&emsp;Pranab Kumar Paul."
   ]
  }
 ],
 "metadata": {
  "kernelspec": {
   "display_name": "Python 3",
   "language": "python",
   "name": "python3"
  },
  "language_info": {
   "codemirror_mode": {
    "name": "ipython",
    "version": 3
   },
   "file_extension": ".py",
   "mimetype": "text/x-python",
   "name": "python",
   "nbconvert_exporter": "python",
   "pygments_lexer": "ipython3",
   "version": "3.8.3"
  }
 },
 "nbformat": 4,
 "nbformat_minor": 4
}
